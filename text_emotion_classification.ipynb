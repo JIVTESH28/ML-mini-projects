{
  "cells": [
    {
      "cell_type": "code",
      "execution_count": 28,
      "metadata": {
        "id": "qygY1L8lUNfR"
      },
      "outputs": [],
      "source": [
        "import pandas as pd\n",
        "import numpy as np\n",
        "import tensorflow\n",
        "from tensorflow.keras.preprocessing.text import Tokenizer\n",
        "from tensorflow.keras.preprocessing.sequence import pad_sequences\n",
        "from sklearn.preprocessing import LabelEncoder\n",
        "from sklearn.model_selection import train_test_split\n",
        "from keras.models import Sequential\n",
        "from keras.layers import Embedding, Flatten, Dense"
      ]
    },
    {
      "cell_type": "code",
      "execution_count": 7,
      "metadata": {
        "id": "Wc_QGXoHUank"
      },
      "outputs": [],
      "source": [
        "data = pd.read_csv('path to the train dataset', sep =';')"
      ]
    },
    {
      "cell_type": "code",
      "execution_count": 8,
      "metadata": {
        "colab": {
          "base_uri": "https://localhost:8080/"
        },
        "id": "DU309QSrVLTE",
        "outputId": "99ad9c08-4097-4cee-84eb-6615567ec824"
      },
      "outputs": [
        {
          "name": "stdout",
          "output_type": "stream",
          "text": [
            "                                                Text Emotions\n",
            "0  i can go from feeling so hopeless to so damned...  sadness\n",
            "1   im grabbing a minute to post i feel greedy wrong    anger\n",
            "2  i am ever feeling nostalgic about the fireplac...     love\n",
            "3                               i am feeling grouchy    anger\n",
            "4  ive been feeling a little burdened lately wasn...  sadness\n"
          ]
        }
      ],
      "source": [
        "data.columns = [\"Text\", \"Emotions\"]\n",
        "print(data.head())"
      ]
    },
    {
      "cell_type": "code",
      "execution_count": 9,
      "metadata": {
        "id": "wkrq1SJJWF2E"
      },
      "outputs": [],
      "source": [
        "texts = data[\"Text\"].tolist()\n",
        "labels = data[\"Emotions\"].tolist()\n",
        "\n",
        "tokenizer = Tokenizer()\n",
        "tokenizer.fit_on_texts(texts)\n",
        "\n",
        "\n",
        "seq = tokenizer.texts_to_sequences(texts)\n",
        "max_length = max([len(seq) for seq in seq])\n",
        "padded_sequences = pad_sequences(seq, maxlen=max_length)"
      ]
    },
    {
      "cell_type": "code",
      "execution_count": 10,
      "metadata": {
        "id": "LwbbciCwWv81"
      },
      "outputs": [],
      "source": [
        "seq = tokenizer.texts_to_sequences(texts)"
      ]
    },
    {
      "cell_type": "code",
      "execution_count": 11,
      "metadata": {
        "colab": {
          "base_uri": "https://localhost:8080/"
        },
        "id": "WULtgdflW43D",
        "outputId": "2d657234-0860-4461-cc7a-4bd59a908f99"
      },
      "outputs": [
        {
          "data": {
            "text/plain": [
              "array([[   0,    0,    0, ...,    3,   21, 1254],\n",
              "       [   0,    0,    0, ...,    2,  494,  437],\n",
              "       [   0,    0,    0, ...,   29,    5, 3496],\n",
              "       ...,\n",
              "       [   0,    0,    0, ...,    3,  101, 1331],\n",
              "       [   0,    0,    0, ...,  339,    8,   42],\n",
              "       [   0,    0,    0, ...,   25, 3585,   12]], dtype=int32)"
            ]
          },
          "execution_count": 11,
          "metadata": {},
          "output_type": "execute_result"
        }
      ],
      "source": [
        "padded_sequences"
      ]
    },
    {
      "cell_type": "code",
      "execution_count": 12,
      "metadata": {
        "id": "DSA8QvVDXRwp"
      },
      "outputs": [],
      "source": [
        "label_encoder = LabelEncoder()\n",
        "labels = label_encoder.fit_transform(labels)"
      ]
    },
    {
      "cell_type": "code",
      "execution_count": 13,
      "metadata": {
        "id": "_MYqCE55X7sh"
      },
      "outputs": [],
      "source": [
        "one_hot_labels = keras.utils.to_categorical(labels)"
      ]
    },
    {
      "cell_type": "code",
      "execution_count": 14,
      "metadata": {
        "colab": {
          "base_uri": "https://localhost:8080/"
        },
        "id": "WIeWb-m7X_9u",
        "outputId": "f48f88ab-b628-4053-ee33-a06ef2d3231a"
      },
      "outputs": [
        {
          "data": {
            "text/plain": [
              "array([[0., 0., 0., 0., 1., 0.],\n",
              "       [1., 0., 0., 0., 0., 0.],\n",
              "       [0., 0., 0., 1., 0., 0.],\n",
              "       ...,\n",
              "       [0., 0., 1., 0., 0., 0.],\n",
              "       [1., 0., 0., 0., 0., 0.],\n",
              "       [0., 0., 0., 0., 1., 0.]])"
            ]
          },
          "execution_count": 14,
          "metadata": {},
          "output_type": "execute_result"
        }
      ],
      "source": [
        "one_hot_labels"
      ]
    },
    {
      "cell_type": "code",
      "execution_count": 15,
      "metadata": {
        "id": "QN3JrmEjYDPg"
      },
      "outputs": [],
      "source": [
        "xtrain, xtest, ytrain, ytest = train_test_split(padded_sequences,\n",
        "                                                one_hot_labels,\n",
        "                                                test_size=0.2)"
      ]
    },
    {
      "cell_type": "code",
      "execution_count": 16,
      "metadata": {
        "colab": {
          "base_uri": "https://localhost:8080/"
        },
        "id": "W0u6VZCmYGkD",
        "outputId": "b9559bcc-2d8d-4d86-9f3c-ecd09678a955"
      },
      "outputs": [
        {
          "data": {
            "text/plain": [
              "array([0., 0., 0., 0., 1., 0.])"
            ]
          },
          "execution_count": 16,
          "metadata": {},
          "output_type": "execute_result"
        }
      ],
      "source": [
        "one_hot_labels[0]"
      ]
    },
    {
      "cell_type": "code",
      "execution_count": 17,
      "metadata": {
        "colab": {
          "base_uri": "https://localhost:8080/"
        },
        "id": "WFqMObQnYTlw",
        "outputId": "56369405-083f-4991-d6f2-5d64b2c8609a"
      },
      "outputs": [
        {
          "name": "stdout",
          "output_type": "stream",
          "text": [
            "Epoch 1/10\n"
          ]
        },
        {
          "name": "stderr",
          "output_type": "stream",
          "text": [
            "/usr/local/lib/python3.10/dist-packages/keras/src/layers/core/embedding.py:90: UserWarning: Argument `input_length` is deprecated. Just remove it.\n",
            "  warnings.warn(\n"
          ]
        },
        {
          "name": "stdout",
          "output_type": "stream",
          "text": [
            "\u001b[1m400/400\u001b[0m \u001b[32m━━━━━━━━━━━━━━━━━━━━\u001b[0m\u001b[37m\u001b[0m \u001b[1m17s\u001b[0m 37ms/step - accuracy: 0.3942 - loss: 1.5193 - val_accuracy: 0.7344 - val_loss: 0.8132\n",
            "Epoch 2/10\n",
            "\u001b[1m400/400\u001b[0m \u001b[32m━━━━━━━━━━━━━━━━━━━━\u001b[0m\u001b[37m\u001b[0m \u001b[1m20s\u001b[0m 36ms/step - accuracy: 0.8722 - loss: 0.4198 - val_accuracy: 0.8300 - val_loss: 0.5262\n",
            "Epoch 3/10\n",
            "\u001b[1m400/400\u001b[0m \u001b[32m━━━━━━━━━━━━━━━━━━━━\u001b[0m\u001b[37m\u001b[0m \u001b[1m18s\u001b[0m 44ms/step - accuracy: 0.9830 - loss: 0.0633 - val_accuracy: 0.8356 - val_loss: 0.5846\n",
            "Epoch 4/10\n",
            "\u001b[1m400/400\u001b[0m \u001b[32m━━━━━━━━━━━━━━━━━━━━\u001b[0m\u001b[37m\u001b[0m \u001b[1m18s\u001b[0m 45ms/step - accuracy: 0.9947 - loss: 0.0245 - val_accuracy: 0.8288 - val_loss: 0.6139\n",
            "Epoch 5/10\n",
            "\u001b[1m400/400\u001b[0m \u001b[32m━━━━━━━━━━━━━━━━━━━━\u001b[0m\u001b[37m\u001b[0m \u001b[1m17s\u001b[0m 36ms/step - accuracy: 0.9972 - loss: 0.0140 - val_accuracy: 0.8278 - val_loss: 0.6747\n",
            "Epoch 6/10\n",
            "\u001b[1m400/400\u001b[0m \u001b[32m━━━━━━━━━━━━━━━━━━━━\u001b[0m\u001b[37m\u001b[0m \u001b[1m15s\u001b[0m 37ms/step - accuracy: 0.9976 - loss: 0.0127 - val_accuracy: 0.8263 - val_loss: 0.6792\n",
            "Epoch 7/10\n",
            "\u001b[1m400/400\u001b[0m \u001b[32m━━━━━━━━━━━━━━━━━━━━\u001b[0m\u001b[37m\u001b[0m \u001b[1m14s\u001b[0m 35ms/step - accuracy: 0.9982 - loss: 0.0081 - val_accuracy: 0.8263 - val_loss: 0.6616\n",
            "Epoch 8/10\n",
            "\u001b[1m400/400\u001b[0m \u001b[32m━━━━━━━━━━━━━━━━━━━━\u001b[0m\u001b[37m\u001b[0m \u001b[1m15s\u001b[0m 37ms/step - accuracy: 0.9980 - loss: 0.0095 - val_accuracy: 0.8256 - val_loss: 0.7457\n",
            "Epoch 9/10\n",
            "\u001b[1m400/400\u001b[0m \u001b[32m━━━━━━━━━━━━━━━━━━━━\u001b[0m\u001b[37m\u001b[0m \u001b[1m22s\u001b[0m 54ms/step - accuracy: 0.9980 - loss: 0.0091 - val_accuracy: 0.8269 - val_loss: 0.7694\n",
            "Epoch 10/10\n",
            "\u001b[1m400/400\u001b[0m \u001b[32m━━━━━━━━━━━━━━━━━━━━\u001b[0m\u001b[37m\u001b[0m \u001b[1m36s\u001b[0m 42ms/step - accuracy: 0.9981 - loss: 0.0068 - val_accuracy: 0.8116 - val_loss: 0.8687\n"
          ]
        },
        {
          "data": {
            "text/plain": [
              "<keras.src.callbacks.history.History at 0x7946c2b96d10>"
            ]
          },
          "execution_count": 17,
          "metadata": {},
          "output_type": "execute_result"
        }
      ],
      "source": [
        "model = Sequential()\n",
        "model.add(Embedding(input_dim=len(tokenizer.word_index) + 1,\n",
        "                    output_dim=128, input_length=max_length))\n",
        "model.add(Flatten())\n",
        "model.add(Dense(units=128, activation=\"relu\"))\n",
        "model.add(Dense(units=len(one_hot_labels[0]), activation=\"softmax\"))\n",
        "\n",
        "model.compile(optimizer=\"adam\", loss=\"categorical_crossentropy\", metrics=[\"accuracy\"])\n",
        "model.fit(xtrain, ytrain, epochs=10, batch_size=32, validation_data=(xtest, ytest))"
      ]
    },
    {
      "cell_type": "code",
      "execution_count": 27,
      "metadata": {
        "colab": {
          "base_uri": "https://localhost:8080/"
        },
        "id": "h9Z20AEh1EBN",
        "outputId": "ab9aa71c-481b-46df-c2ef-ba5ef24894f2"
      },
      "outputs": [
        {
          "name": "stdout",
          "output_type": "stream",
          "text": [
            "\u001b[1m1/1\u001b[0m \u001b[32m━━━━━━━━━━━━━━━━━━━━\u001b[0m\u001b[37m\u001b[0m \u001b[1m0s\u001b[0m 24ms/step\n",
            "Predicted label: joy\n"
          ]
        }
      ],
      "source": [
        "\n",
        "usr_inp = \"Hello everyone, today is a sunny day.I'm very happy for to my life\"\n",
        "\n",
        "\n",
        "input_sequence = tokenizer.texts_to_sequences([usr_inp])\n",
        "padded_input_sequence = pad_sequences(input_sequence, maxlen=max_length)\n",
        "\n",
        "\n",
        "prediction = model.predict(padded_input_sequence)\n",
        "predicted_label = label_encoder.inverse_transform([np.argmax(prediction[0])])\n",
        "\n",
        "\n",
        "print(\"Predicted label:\", predicted_label[0])\n"
      ]
    }
  ],
  "metadata": {
    "colab": {
      "provenance": []
    },
    "kernelspec": {
      "display_name": "Python 3",
      "name": "python3"
    },
    "language_info": {
      "name": "python"
    }
  },
  "nbformat": 4,
  "nbformat_minor": 0
}
